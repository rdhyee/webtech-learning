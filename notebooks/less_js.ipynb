{
 "cells": [
  {
   "cell_type": "markdown",
   "metadata": {},
   "source": [
    "[Getting started | Less.js](http://lesscss.org/#)\n",
    "\n",
    "http://lesscss.org/usage/#programmatic-usage"
   ]
  },
  {
   "cell_type": "code",
   "execution_count": 10,
   "metadata": {
    "collapsed": false
   },
   "outputs": [
    {
     "data": {
      "text/html": [
       "\n",
       "<style type=\"text/css\">\n",
       "    #i86502ce0-e50c-477d-a7c1-c9c15472a986 { }\n",
       "</style>\n",
       "\n",
       "<script type=\"text/javascript\">\n",
       "\n",
       "    // load css if it's not already there: http://stackoverflow.com/a/4724676/7782\n",
       "    function loadcss(url) {\n",
       "        if (!$(\"link[href='\" + url + \"']\").length)\n",
       "            $('<link href=\"' + url + '\" rel=\"stylesheet\">').appendTo(\"head\");\n",
       "    }\n",
       "\n",
       "    require.config({\n",
       "      paths: {\n",
       "        less: \"https://cdnjs.cloudflare.com/ajax/libs/less.js/2.5.3/less\"\n",
       "      }\n",
       "    });\n",
       "\n",
       "     \n",
       "    require([\"less\"], function(less) {\n",
       "    \n",
       "        less_text = '#header {          color: black;          .navigation {            font-size: 12px;          }          .logo {            width: 300px;          }        }';\n",
       "        \n",
       "        less.render(less_text, function (e, output) {\n",
       "          console.log(output.css);\n",
       "        });\n",
       "    \n",
       "    });\n",
       "\n",
       "</script>\n",
       "\n",
       "<div id=\"i86502ce0-e50c-477d-a7c1-c9c15472a986\">\n",
       "  <span>hello</span>\n",
       "</div>"
      ],
      "text/plain": [
       "<IPython.core.display.HTML object>"
      ]
     },
     "execution_count": 10,
     "metadata": {},
     "output_type": "execute_result"
    }
   ],
   "source": [
    "from IPython.display import HTML, display, clear_output\n",
    "import uuid\n",
    "\n",
    "import jinja2\n",
    "from jinja2 import Template\n",
    "\n",
    "\n",
    "LESS_URL = \"https://cdnjs.cloudflare.com/ajax/libs/less.js/2.5.3/less\"\n",
    "\n",
    "\n",
    "div_id = 'i' + str(uuid.uuid4())\n",
    "\n",
    "JS = u\"\"\"\n",
    "<script type=\"text/javascript\">\n",
    "\n",
    "    // load css if it's not already there: http://stackoverflow.com/a/4724676/7782\n",
    "    function loadcss(url) {\n",
    "        if (!$(\"link[href='\" + url + \"']\").length)\n",
    "            $('<link href=\"' + url + '\" rel=\"stylesheet\">').appendTo(\"head\");\n",
    "    }\n",
    "\n",
    "    require.config({\n",
    "      paths: {\n",
    "        less: \"{{less_url}}\"\n",
    "      }\n",
    "    });\n",
    "\n",
    "     \n",
    "    require([\"less\"], function(less) {\n",
    "    \n",
    "        less_text = '#header {\\\n",
    "          color: black;\\\n",
    "          .navigation {\\\n",
    "            font-size: 12px;\\\n",
    "          }\\\n",
    "          .logo {\\\n",
    "            width: 300px;\\\n",
    "          }\\\n",
    "        }';\n",
    "        \n",
    "        less.render(less_text, function (e, output) {\n",
    "          console.log(output.css);\n",
    "        });\n",
    "    \n",
    "    });\n",
    "\n",
    "</script>\n",
    "\"\"\"\n",
    "\n",
    "# demonstrates interference from .rendered_html CSS\n",
    "\n",
    "CSS = \"\"\"\n",
    "<style type=\"text/css\">\n",
    "    #{{div_id}} { }\n",
    "</style>\n",
    "\"\"\"\n",
    "\n",
    "HTML_ = \"\"\"\n",
    "<div id=\"{{div_id}}\">\n",
    "  <span>hello</span>\n",
    "</div>\n",
    "\"\"\"\n",
    "\n",
    "template = Template(CSS + JS + HTML_)\n",
    "HTML(template.render(div_id = div_id,\n",
    "                     less_url=LESS_URL\n",
    "                      ))\n"
   ]
  },
  {
   "cell_type": "markdown",
   "metadata": {},
   "source": [
    "# Python less library\n",
    "\n",
    "[lesscpy/lesscpy](https://github.com/lesscpy/lesscpy)"
   ]
  },
  {
   "cell_type": "code",
   "execution_count": 14,
   "metadata": {
    "collapsed": false
   },
   "outputs": [],
   "source": [
    "css = u\"\"\"\n",
    "#header {\n",
    "  color: black;\n",
    "  .navigation {\n",
    "    font-size: 12px;\n",
    "  }\n",
    "  .logo {\n",
    "    width: 300px;\n",
    "  }\n",
    "}\n",
    "\"\"\"\n"
   ]
  },
  {
   "cell_type": "code",
   "execution_count": 18,
   "metadata": {
    "collapsed": false
   },
   "outputs": [
    {
     "name": "stdout",
     "output_type": "stream",
     "text": [
      "#header{color:black;}\n",
      "#header .navigation{font-size:12px;}\n",
      "#header .logo{width:300px;}\n"
     ]
    }
   ],
   "source": [
    "import lesscpy\n",
    "from six import StringIO\n",
    "\n",
    "print(lesscpy.compile(StringIO(css), minify=True))\n"
   ]
  },
  {
   "cell_type": "code",
   "execution_count": null,
   "metadata": {
    "collapsed": true
   },
   "outputs": [],
   "source": []
  }
 ],
 "metadata": {
  "kernelspec": {
   "display_name": "Python 2",
   "language": "python",
   "name": "python2"
  },
  "language_info": {
   "codemirror_mode": {
    "name": "ipython",
    "version": 2
   },
   "file_extension": ".py",
   "mimetype": "text/x-python",
   "name": "python",
   "nbconvert_exporter": "python",
   "pygments_lexer": "ipython2",
   "version": "2.7.11"
  }
 },
 "nbformat": 4,
 "nbformat_minor": 0
}
