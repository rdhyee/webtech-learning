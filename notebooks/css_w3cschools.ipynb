{
 "cells": [
  {
   "cell_type": "markdown",
   "metadata": {},
   "source": [
    "Let me work through [CSS Tutorial](http://www.w3schools.com/css/), while consulting [Cascading Style Sheets - Wikipedia, the free encyclopedia](https://en.wikipedia.org/wiki/Cascading_Style_Sheets).\n",
    "\n",
    "\n",
    "CSS as a collection of:\n",
    "\n",
    "* selectors, attributes, values\n",
    "\n",
    "Some important CSS attributes:\n",
    "\n",
    "* `color`\n",
    "* `background-color`"
   ]
  },
  {
   "cell_type": "code",
   "execution_count": 1,
   "metadata": {
    "collapsed": true
   },
   "outputs": [],
   "source": [
    "from nbfiddle import Fiddle"
   ]
  },
  {
   "cell_type": "code",
   "execution_count": 4,
   "metadata": {
    "collapsed": false
   },
   "outputs": [
    {
     "data": {
      "text/html": [
       "<div id=\"i6c91c08c-906d-4bfe-962f-6ceeb0257f4c\">\n",
       "    \n",
       "<h1>My First CSS Example</h1>\n",
       "<p>This is a paragraph.</p>\n",
       "\n",
       "</div><style type=\"text/css\">\n",
       "\n",
       "\n",
       "#i6c91c08c-906d-4bfe-962f-6ceeb0257f4c{background-color:#d0e4fe;}\n",
       "#i6c91c08c-906d-4bfe-962f-6ceeb0257f4c h1{color:orange;text-align:center;}\n",
       "#i6c91c08c-906d-4bfe-962f-6ceeb0257f4c p{font-family:\"Times New Roman\";font-size:20px;}\n",
       "</style>\n",
       "<script type=\"text/javascript\">\n",
       "\n",
       "    \n",
       "    \n",
       "    \n",
       "    \n",
       "\n",
       "    require.config({\n",
       "          paths: {\n",
       "             \n",
       "          }\n",
       "    });\n",
       "\n",
       "     \n",
       "    require([], function() {\n",
       "    \n",
       "        var element = $('#i6c91c08c-906d-4bfe-962f-6ceeb0257f4c');\n",
       "\n",
       "    \n",
       "    });\n",
       "\n",
       "</script>"
      ],
      "text/plain": [
       "<nbfiddle.Fiddle at 0x10723a350>"
      ]
     },
     "execution_count": 4,
     "metadata": {},
     "output_type": "execute_result"
    }
   ],
   "source": [
    "# http://www.w3schools.com/css/tryit.asp?filename=trycss_default\n",
    "\n",
    "Fiddle(\n",
    "\n",
    "div_css = \"\"\"\n",
    "\n",
    "background-color: #d0e4fe;\n",
    "\n",
    "h1 {\n",
    "    color: orange;\n",
    "    text-align: center;\n",
    "}\n",
    "\n",
    "p {\n",
    "    font-family: \"Times New Roman\";\n",
    "    font-size: 20px;\n",
    "}\n",
    "\n",
    "\"\"\",\n",
    "    \n",
    "html = \"\"\"\n",
    "<h1>My First CSS Example</h1>\n",
    "<p>This is a paragraph.</p>\n",
    "\"\"\"\n",
    "    \n",
    "\n",
    ")"
   ]
  },
  {
   "cell_type": "code",
   "execution_count": 5,
   "metadata": {
    "collapsed": false
   },
   "outputs": [
    {
     "data": {
      "text/html": [
       "<div id=\"i2a9e32f2-03b8-4bd8-97f8-69e8d8f9b70f\">\n",
       "    \n",
       "<h2>The Old Way - using float</h2>\n",
       "\n",
       "<div class=\"floating-box\">Floating box</div>\n",
       "<div class=\"floating-box\">Floating box</div>\n",
       "<div class=\"floating-box\">Floating box</div>\n",
       "<div class=\"floating-box\">Floating box</div>\n",
       "<div class=\"floating-box\">Floating box</div>\n",
       "<div class=\"floating-box\">Floating box</div>\n",
       "<div class=\"floating-box\">Floating box</div>\n",
       "<div class=\"floating-box\">Floating box</div>\n",
       "\n",
       "<div class=\"after-box\">Another box, after the floating boxes...</div>\n",
       "    \n",
       "    \n",
       "</div><style type=\"text/css\">\n",
       "\n",
       "\n",
       "#i2a9e32f2-03b8-4bd8-97f8-69e8d8f9b70f .floating-box{float:left;width:150px;height:75px;margin:10px;border:3px solid #73ad21;}\n",
       "#i2a9e32f2-03b8-4bd8-97f8-69e8d8f9b70f .after-box{clear:left;border:3px solid red;}\n",
       "</style>\n",
       "<script type=\"text/javascript\">\n",
       "\n",
       "    \n",
       "    \n",
       "    \n",
       "    \n",
       "\n",
       "    require.config({\n",
       "          paths: {\n",
       "             \n",
       "          }\n",
       "    });\n",
       "\n",
       "     \n",
       "    require([], function() {\n",
       "    \n",
       "        var element = $('#i2a9e32f2-03b8-4bd8-97f8-69e8d8f9b70f');\n",
       "\n",
       "    \n",
       "    });\n",
       "\n",
       "</script>"
      ],
      "text/plain": [
       "<nbfiddle.Fiddle at 0x1072e3a10>"
      ]
     },
     "execution_count": 5,
     "metadata": {},
     "output_type": "execute_result"
    }
   ],
   "source": [
    "# http://www.w3schools.com/css/tryit.asp?filename=trycss_inline-block_old\n",
    "\n",
    "Fiddle(\n",
    "\n",
    "    div_css = \"\"\"\n",
    ".floating-box {\n",
    "    float: left;\n",
    "    width: 150px;\n",
    "    height: 75px;\n",
    "    margin: 10px;\n",
    "    border: 3px solid #73AD21;  \n",
    "}\n",
    "\n",
    ".after-box {\n",
    "    clear: left;\n",
    "    border: 3px solid red;      \n",
    "}    \n",
    "    \n",
    "    \"\"\",\n",
    "\n",
    "    html = \"\"\"\n",
    "<h2>The Old Way - using float</h2>\n",
    "\n",
    "<div class=\"floating-box\">Floating box</div>\n",
    "<div class=\"floating-box\">Floating box</div>\n",
    "<div class=\"floating-box\">Floating box</div>\n",
    "<div class=\"floating-box\">Floating box</div>\n",
    "<div class=\"floating-box\">Floating box</div>\n",
    "<div class=\"floating-box\">Floating box</div>\n",
    "<div class=\"floating-box\">Floating box</div>\n",
    "<div class=\"floating-box\">Floating box</div>\n",
    "\n",
    "<div class=\"after-box\">Another box, after the floating boxes...</div>\n",
    "    \n",
    "    \"\"\",\n",
    "\n",
    ")"
   ]
  },
  {
   "cell_type": "markdown",
   "metadata": {},
   "source": [
    "# Box model\n",
    "\n",
    "[CSS box model - Wikipedia, the free encyclopedia](https://en.wikipedia.org/wiki/CSS_box_model)\n",
    "\n",
    "<img src=\"https://upload.wikimedia.org/wikipedia/commons/thumb/6/64/W3C_and_Internet_Explorer_box_models.svg/600px-W3C_and_Internet_Explorer_box_models.svg.png\"/ style=\"width:300px\">"
   ]
  },
  {
   "cell_type": "code",
   "execution_count": 13,
   "metadata": {
    "collapsed": false
   },
   "outputs": [
    {
     "data": {
      "text/html": [
       "<div id=\"ifbb3c64e-c309-406b-9317-bc7dd2fdb6ff\">\n",
       "    \n",
       "    <img src=\"https://upload.wikimedia.org/wikipedia/commons/thumb/6/64/W3C_and_Internet_Explorer_box_models.svg/600px-W3C_and_Internet_Explorer_box_models.svg.png\"/ style=\"width:300px\">\n",
       "    \n",
       "</div><style type=\"text/css\">\n",
       "\n",
       "\n",
       "\n",
       "</style>\n",
       "<script type=\"text/javascript\">\n",
       "\n",
       "    \n",
       "    // load css if it's not already there: http://stackoverflow.com/a/4724676/7782\n",
       "    function loadcss(url) {\n",
       "        if (!$(\"link[href='\" + url + \"']\").length)\n",
       "            $('<link href=\"' + url + '\" rel=\"stylesheet\">').appendTo(\"head\");\n",
       "    }\n",
       "    \n",
       "    \n",
       "    \n",
       "    loadcss('http://yui.yahooapis.com/3.18.0/build/cssnormalize-context/cssnormalize-context-min.css');\n",
       "    \n",
       "    \n",
       "\n",
       "    require.config({\n",
       "          paths: {\n",
       "             \n",
       "          }\n",
       "    });\n",
       "\n",
       "     \n",
       "    require([], function() {\n",
       "    \n",
       "        var element = $('#ifbb3c64e-c309-406b-9317-bc7dd2fdb6ff');\n",
       "\n",
       "    \n",
       "    });\n",
       "\n",
       "</script>"
      ],
      "text/plain": [
       "<nbfiddle.Fiddle at 0x107238a10>"
      ]
     },
     "execution_count": 13,
     "metadata": {},
     "output_type": "execute_result"
    }
   ],
   "source": [
    "# using normalize.css\n",
    "normalize_css_url = \"http://yui.yahooapis.com/3.18.0/build/cssnormalize-context/cssnormalize-context-min.css\"\n",
    "\n",
    "Fiddle(\n",
    "    \n",
    "    html = \"\"\"\n",
    "    <img src=\"https://upload.wikimedia.org/wikipedia/commons/thumb/6/64/W3C_and_Internet_Explorer_box_models.svg/600px-W3C_and_Internet_Explorer_box_models.svg.png\"/ style=\"width:300px\">\n",
    "    \"\"\",\n",
    "    \n",
    "    csslibs = (normalize_css_url,)\n",
    "    \n",
    ")"
   ]
  },
  {
   "cell_type": "markdown",
   "metadata": {},
   "source": [
    "# Basic exercise: flowing text around images"
   ]
  },
  {
   "cell_type": "code",
   "execution_count": 34,
   "metadata": {
    "collapsed": false
   },
   "outputs": [
    {
     "data": {
      "text/html": [
       "\n",
       "<style>\n",
       "</style>\n",
       "\n",
       "<img src=\"https://upload.wikimedia.org/wikipedia/commons/6/6a/Johann_Sebastian_Bach.jpg\" style=\"width: 200px; padding:5px; float:left;\">\n",
       "\n",
       "<p>Johann Sebastian Bach (31 March [O.S. 21 March] 1685 – 28 July 1750) was a German composer and musician \n",
       "of the Baroque period. He enriched established German styles through his skill in counterpoint, \n",
       "harmonic and motivic organisation, and the adaptation of rhythms, forms, and textures from abroad, \n",
       "particularly from Italy and France. Bach's compositions include the Brandenburg Concertos, the Goldberg \n",
       "Variations, the Mass in B minor, two Passions, and over three hundred cantatas of which around two hundred survive. \n",
       "His music is revered for its technical command, artistic beauty, and intellectual depth.<p>\n",
       "\n",
       "\n",
       "<p style=\"clear: right;\">Bach's abilities as an organist were highly respected during his lifetime, \n",
       "although he was not widely recognised as a great composer until a revival of interest and performances \n",
       "of his music in the first half of the 19th century. He is now generally regarded as one of the greatest \n",
       "composers of all time.</p>\n"
      ],
      "text/plain": [
       "<IPython.core.display.HTML object>"
      ]
     },
     "metadata": {},
     "output_type": "display_data"
    }
   ],
   "source": [
    "%%html\n",
    "\n",
    "<style>\n",
    "</style>\n",
    "\n",
    "<img src=\"https://upload.wikimedia.org/wikipedia/commons/6/6a/Johann_Sebastian_Bach.jpg\" style=\"width: 200px; padding:5px; float:left;\">\n",
    "\n",
    "<p>Johann Sebastian Bach (31 March [O.S. 21 March] 1685 – 28 July 1750) was a German composer and musician \n",
    "of the Baroque period. He enriched established German styles through his skill in counterpoint, \n",
    "harmonic and motivic organisation, and the adaptation of rhythms, forms, and textures from abroad, \n",
    "particularly from Italy and France. Bach's compositions include the Brandenburg Concertos, the Goldberg \n",
    "Variations, the Mass in B minor, two Passions, and over three hundred cantatas of which around two hundred survive. \n",
    "His music is revered for its technical command, artistic beauty, and intellectual depth.<p>\n",
    "\n",
    "\n",
    "<p style=\"clear: right;\">Bach's abilities as an organist were highly respected during his lifetime, \n",
    "although he was not widely recognised as a great composer until a revival of interest and performances \n",
    "of his music in the first half of the 19th century. He is now generally regarded as one of the greatest \n",
    "composers of all time.</p>\n",
    "\n"
   ]
  },
  {
   "cell_type": "markdown",
   "metadata": {},
   "source": [
    "## box-sizing\n",
    "\n",
    "http://www.w3schools.com/cssref/css3_pr_box-sizing.asp\n",
    "\n",
    "* `content-box`:\tDefault. The width and height properties (and min/max properties) includes only the content. Border, padding, or margin are not included\n",
    "* `border-box`:\tThe width and height properties (and min/max properties) includes content, padding and border, but not the margin"
   ]
  },
  {
   "cell_type": "code",
   "execution_count": 52,
   "metadata": {
    "collapsed": false
   },
   "outputs": [
    {
     "data": {
      "text/html": [
       "<div id=\"ib7d6db33-865a-4e3e-b38d-5fd174705a23\">\n",
       "    \n",
       "    <div class=\"box-sizing-content-box\">HELLO</div>\n",
       "    <div class=\"box-sizing-border-box\">HELLO</div>\n",
       "    \n",
       "</div><style type=\"text/css\">\n",
       "\n",
       "\n",
       "#ib7d6db33-865a-4e3e-b38d-5fd174705a23 .box-sizing-content-box{box-sizing:content-box;width:200px;padding:30px;border:5px solid red;}\n",
       "#ib7d6db33-865a-4e3e-b38d-5fd174705a23 .box-sizing-border-box{box-sizing:border-box;width:200px;padding:30px;border:5px solid blue;}\n",
       "</style>\n",
       "<script type=\"text/javascript\">\n",
       "\n",
       "    \n",
       "    \n",
       "    \n",
       "    \n",
       "\n",
       "    require.config({\n",
       "          paths: {\n",
       "             \n",
       "          }\n",
       "    });\n",
       "\n",
       "     \n",
       "    require([], function() {\n",
       "    \n",
       "        var element = $('#ib7d6db33-865a-4e3e-b38d-5fd174705a23');\n",
       "\n",
       "    \n",
       "    });\n",
       "\n",
       "</script>"
      ],
      "text/plain": [
       "<nbfiddle.Fiddle at 0x107178990>"
      ]
     },
     "execution_count": 52,
     "metadata": {},
     "output_type": "execute_result"
    }
   ],
   "source": [
    "# box-sizing\n",
    "\n",
    "Fiddle(\n",
    "    html = \"\"\"\n",
    "    <div class=\"box-sizing-content-box\">HELLO</div>\n",
    "    <div class=\"box-sizing-border-box\">HELLO</div>\n",
    "    \"\"\",\n",
    "    div_css = \"\"\"\n",
    "    .box-sizing-content-box {\n",
    "      box-sizing: content-box;\n",
    "      width: 200px;\n",
    "      padding: 30px;\n",
    "      border: 5px solid red;\n",
    "    }\n",
    "    .box-sizing-border-box {\n",
    "      box-sizing: border-box;\n",
    "      width: 200px;\n",
    "      padding: 30px;\n",
    "      border: 5px solid blue;\n",
    "    }\n",
    "    \"\"\"\n",
    ")"
   ]
  },
  {
   "cell_type": "code",
   "execution_count": 67,
   "metadata": {
    "collapsed": false
   },
   "outputs": [
    {
     "data": {
      "text/html": [
       "<div id=\"i3efd2589-f129-4356-b8fa-c65f53b989f3\">\n",
       "    \n",
       "<p class=\"inline\">p.inline</p>\n",
       "<p class=\"inline\">p.inline</p>\n",
       "<span class=\"block\">span.block</span>\n",
       "<span class=\"block\">span.block</span>\n",
       "<div class=\"none\">none</div>\n",
       "    \n",
       "</div><style type=\"text/css\">\n",
       "\n",
       "\n",
       "#i3efd2589-f129-4356-b8fa-c65f53b989f3 p.inline{display:inline;}\n",
       "#i3efd2589-f129-4356-b8fa-c65f53b989f3 span.block{display:block;}\n",
       "#i3efd2589-f129-4356-b8fa-c65f53b989f3 div.none{display:none;}\n",
       "</style>\n",
       "<script type=\"text/javascript\">\n",
       "\n",
       "    \n",
       "    \n",
       "    \n",
       "    \n",
       "\n",
       "    require.config({\n",
       "          paths: {\n",
       "             \n",
       "          }\n",
       "    });\n",
       "\n",
       "     \n",
       "    require([], function() {\n",
       "    \n",
       "        var element = $('#i3efd2589-f129-4356-b8fa-c65f53b989f3');\n",
       "\n",
       "    \n",
       "    });\n",
       "\n",
       "</script>"
      ],
      "text/plain": [
       "<nbfiddle.Fiddle at 0x107518090>"
      ]
     },
     "execution_count": 67,
     "metadata": {},
     "output_type": "execute_result"
    }
   ],
   "source": [
    "# display:  block, inline, none\n",
    "\n",
    "Fiddle(\n",
    "    html = \"\"\"\n",
    "<p class=\"inline\">p.inline</p>\n",
    "<p class=\"inline\">p.inline</p>\n",
    "<span class=\"block\">span.block</span>\n",
    "<span class=\"block\">span.block</span>\n",
    "<div class=\"none\">none</div>\n",
    "    \"\"\",\n",
    "    \n",
    "    div_css = \"\"\"\n",
    "p.inline {\n",
    "    display: inline;\n",
    "}\n",
    "span.block {\n",
    "    display: block;\n",
    "}\n",
    "div.none {\n",
    "    display: none;\n",
    "}\n",
    "    \"\"\"\n",
    ")"
   ]
  },
  {
   "cell_type": "code",
   "execution_count": null,
   "metadata": {
    "collapsed": true
   },
   "outputs": [],
   "source": []
  }
 ],
 "metadata": {
  "kernelspec": {
   "display_name": "Python 2",
   "language": "python",
   "name": "python2"
  },
  "language_info": {
   "codemirror_mode": {
    "name": "ipython",
    "version": 2
   },
   "file_extension": ".py",
   "mimetype": "text/x-python",
   "name": "python",
   "nbconvert_exporter": "python",
   "pygments_lexer": "ipython2",
   "version": "2.7.11"
  }
 },
 "nbformat": 4,
 "nbformat_minor": 0
}
