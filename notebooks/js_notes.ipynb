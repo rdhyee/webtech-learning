{
 "cells": [
  {
   "cell_type": "code",
   "execution_count": null,
   "metadata": {
    "collapsed": false
   },
   "outputs": [],
   "source": [
    "import requests\n",
    "from jinja2 import Template\n",
    "from IPython.display import Javascript, HTML\n",
    "\n",
    "from settings import FLICKR_KEY"
   ]
  },
  {
   "cell_type": "code",
   "execution_count": null,
   "metadata": {
    "collapsed": false
   },
   "outputs": [],
   "source": [
    "%%javascript\n",
    "\n",
    "console.log(\"hello\");"
   ]
  },
  {
   "cell_type": "code",
   "execution_count": null,
   "metadata": {
    "collapsed": false
   },
   "outputs": [],
   "source": [
    "%%javascript\n",
    "// access of jquery\n",
    "\n",
    "console.log($('body'));"
   ]
  },
  {
   "cell_type": "code",
   "execution_count": null,
   "metadata": {
    "collapsed": false
   },
   "outputs": [],
   "source": [
    "# jquery ajax, getJSON, especially with promises\n",
    "# https://www.flickr.com/services/api/explore/flickr.photos.search\n",
    "\n",
    "flickr_url = \"https://api.flickr.com/services/rest/?method=flickr.photos.search&api_key={key}&tags={tag}&format=json&nojsoncallback=1\"\n",
    "url = flickr_url.format(key=FLICKR_KEY, tag='tiger')"
   ]
  },
  {
   "cell_type": "code",
   "execution_count": null,
   "metadata": {
    "collapsed": false
   },
   "outputs": [],
   "source": [
    "# in Python, can retrieve Flickr output\n",
    "\n",
    "r = requests.get(url)\n",
    "r.json()"
   ]
  },
  {
   "cell_type": "code",
   "execution_count": null,
   "metadata": {
    "collapsed": false
   },
   "outputs": [],
   "source": [
    "JS = \"\"\"\n",
    "<script>\n",
    "$.getJSON('{{url}}', function (data) {\n",
    "     console.log(data.photos.photo.length);\n",
    "     console.log(element);\n",
    "})\n",
    "</script>\n",
    "\"\"\"\n",
    "\n",
    "template = Template(JS)\n",
    "HTML(template.render(url=url))"
   ]
  },
  {
   "cell_type": "code",
   "execution_count": null,
   "metadata": {
    "collapsed": false
   },
   "outputs": [],
   "source": [
    "import uuid\n",
    "div_id = str(uuid.uuid4())\n",
    "div_id"
   ]
  },
  {
   "cell_type": "code",
   "execution_count": null,
   "metadata": {
    "collapsed": false
   },
   "outputs": [],
   "source": [
    "# unfinished idea...easier to know that in JS, we have element to work with\n",
    "\n",
    "import uuid\n",
    "\n",
    "def _HTML (html, css='', js='', div_id=None, template_vars=None):\n",
    "\n",
    "    if div_id is None:\n",
    "        div_id = \"i-\"+str(uuid.uuid4())\n",
    "        \n",
    "    if template_vars is None:\n",
    "        template_vars = {}\n",
    "        \n",
    "    html = \"<div id={}>{}</div>\".format(div_id, html)\n",
    "    \n",
    "    # wrap css to apply to this div\n",
    "    if css:\n",
    "        css = \"\"\"\n",
    "<style>\n",
    "#{div_id} * {{ \n",
    "   {css}\n",
    "}}\n",
    "</style>\"\"\".format(div_id=div_id, css=css)\n",
    "\n",
    "    # wrap js in <script>\n",
    "    if js:\n",
    "        js = \"\"\"\n",
    "<script>\n",
    "  var element = $('#{div_id}');\n",
    "  {js}\n",
    "</script>\"\"\".format(div_id=div_id, js=js)\n",
    "        \n",
    "    net_html = html + css + js\n",
    "    \n",
    "    template = Template(net_html)\n",
    "    return HTML(template.render(template_vars))"
   ]
  },
  {
   "cell_type": "code",
   "execution_count": null,
   "metadata": {
    "collapsed": false
   },
   "outputs": [],
   "source": [
    "js = \"\"\"\n",
    "console.log(element);\n",
    "\"\"\"\n",
    "\n",
    "_HTML(\"<b>hi</b>\", css='color:red', js=js)"
   ]
  },
  {
   "cell_type": "code",
   "execution_count": null,
   "metadata": {
    "collapsed": true
   },
   "outputs": [],
   "source": [
    "# deferred.done()"
   ]
  },
  {
   "cell_type": "code",
   "execution_count": null,
   "metadata": {
    "collapsed": false
   },
   "outputs": [],
   "source": [
    "%%javascript\n",
    "//http://stackoverflow.com/a/28713427\n",
    "element.html('<b>Hi</b>')\n",
    "console.log(element)"
   ]
  },
  {
   "cell_type": "markdown",
   "metadata": {
    "collapsed": true
   },
   "source": [
    "# Promises\n",
    "\n",
    "[Hypothesis](https://hypothes.is/a/AVGMlyoS8sFu_DXLVNxA) --> full implementation of promises coming in jQuery 3.0"
   ]
  },
  {
   "cell_type": "code",
   "execution_count": null,
   "metadata": {
    "collapsed": false
   },
   "outputs": [],
   "source": [
    "%%javascript\n",
    "// version of jQuery\n",
    "element.text($.fn.jquery)"
   ]
  },
  {
   "cell_type": "code",
   "execution_count": null,
   "metadata": {
    "collapsed": false
   },
   "outputs": [],
   "source": [
    "%%javascript\n",
    "\n",
    "{\n",
    "    \n",
    "// incorrect attempt to compute element independently...\n",
    "// just use element: http://stackoverflow.com/a/20020566/\n",
    "\n",
    "var _e = IPython.notebook.get_selected_cell().output_area.element;\n",
    "var _element = _e.find(\".rendered_html\");\n",
    "\n",
    "element.text(\"hello\");\n",
    "console.log(element);\n",
    "console.log(element.text());\n",
    "\n",
    "    \n",
    "}"
   ]
  },
  {
   "cell_type": "markdown",
   "metadata": {},
   "source": [
    "# jquery ajax, getJSON, especially with promises\n",
    "\n",
    "https://www.flickr.com/services/api/explore/flickr.photos.search"
   ]
  },
  {
   "cell_type": "code",
   "execution_count": null,
   "metadata": {
    "collapsed": true
   },
   "outputs": [],
   "source": [
    "from IPython.display import Javascript\n",
    "import requests\n",
    "from jinja2 import Template\n",
    "\n",
    "flickr_url = \"https://api.flickr.com/services/rest/?method=flickr.photos.search&api_key={key}&tags={tag}&format=json&nojsoncallback=1\"\n",
    "url = flickr_url.format(key=FLICKR_KEY, tag='tiger')"
   ]
  },
  {
   "cell_type": "code",
   "execution_count": null,
   "metadata": {
    "collapsed": false
   },
   "outputs": [],
   "source": [
    "js_template = Template(\"\"\"\n",
    "$.getJSON('{{url}}', function (data) {\n",
    "     element.text(data.photos.photo.length);\n",
    "})\n",
    "\"\"\")\n",
    "\n",
    "Javascript(js_template.render(url=url))"
   ]
  },
  {
   "cell_type": "code",
   "execution_count": null,
   "metadata": {
    "collapsed": false
   },
   "outputs": [],
   "source": [
    "# use done\n",
    "\n",
    "js_template = Template(\"\"\"\n",
    "\n",
    "var p = $.getJSON('{{url}}');\n",
    "\n",
    "p.done(function(data){\n",
    "\n",
    "    element.text(data.photos.photo.length);\n",
    "\n",
    "})\n",
    "\n",
    "\"\"\")\n",
    "\n",
    "Javascript(js_template.render(url=url))"
   ]
  },
  {
   "cell_type": "code",
   "execution_count": null,
   "metadata": {
    "collapsed": false
   },
   "outputs": [],
   "source": [
    "# use then\n",
    "# https://api.jquery.com/deferred.then/\n",
    "\n",
    "js_template = Template(\"\"\"\n",
    "\n",
    "var p = $.getJSON('{{url}}');\n",
    "\n",
    "var done = function(data){\n",
    "    element.text(data.photos.photo.length);\n",
    "};\n",
    "\n",
    "var fail = function (jqXHR, status, error) {};\n",
    "\n",
    "p.then(done, fail);\n",
    "\n",
    "\"\"\")\n",
    "\n",
    "Javascript(js_template.render(url=url))\n"
   ]
  },
  {
   "cell_type": "markdown",
   "metadata": {},
   "source": [
    "ideas behind promises and deferred.\n",
    "\n",
    "Wikipedia article: [Futures and promises - Wikipedia, the free encyclopedia](https://en.wikipedia.org/w/index.php?title=Futures_and_promises&oldid=694192295):\n",
    "\n",
    "> Specifically, when usage is distinguished, a future is a *read-only* placeholder view of a variable, while a promise is a writable, *single assignment* container which sets the value of the future.\" Notably, a future may be defined without specifying which specific promise will set its value, and different possible promises may set the value of a given future, though this can be done only once for a given future. In other cases a future and a promise are created together and associated with each other: the future is the value, the promise is the function that sets the value – essentially the return value (future) of an asynchronous function (promise). Setting the value of a future is also called *resolving*, *fulfilling*, or *binding* it.\n",
    "\n",
    "Gold standard in the JavaScript world: [Promises/A+](https://promisesaplus.com/)\n",
    "\n",
    "what I've understood, explained well in [cosdev](https://cosdev.readthedocs.org/en/latest/style_guides/javascript.html?highlight=promise#ajax) --> moving from callback/continuation style programmging to `done` and `fail`.\n",
    "\n",
    "Things to figure out:\n",
    "\n",
    "* what is a rejection value?\n"
   ]
  },
  {
   "cell_type": "code",
   "execution_count": null,
   "metadata": {
    "collapsed": false
   },
   "outputs": [],
   "source": [
    "%%javascript\n",
    "\n",
    "var d = $.Deferred();\n",
    "var p = d.promise();\n",
    "p.then (function (value) {console.log(\"p: \" + value)});\n",
    "\n",
    "rdhyee.d = d;\n"
   ]
  },
  {
   "cell_type": "code",
   "execution_count": null,
   "metadata": {
    "collapsed": false
   },
   "outputs": [],
   "source": [
    "%%javascript\n",
    "// thinking that you would pass a value\n",
    "rdhyee.d.resolve(10);\n"
   ]
  },
  {
   "cell_type": "code",
   "execution_count": null,
   "metadata": {
    "collapsed": false
   },
   "outputs": [],
   "source": [
    "%%javascript\n",
    "\n",
    "// kinda ugly -- must be a better way\n",
    "\n",
    "// how to express\n",
    "// b = a +1\n",
    "// c = 2*b\n",
    "\n",
    "var a = $.Deferred();\n",
    "a.then(function(value){console.log('a: '+value)})\n",
    "\n",
    "var b = $.Deferred();\n",
    "b.then(function(value){console.log('b: '+value)})\n",
    "\n",
    "var c = $.Deferred();\n",
    "c.then(function(value){console.log('c: '+value)})\n",
    "\n",
    "// b = a + 1\n",
    "\n",
    "var a0 = a.promise();\n",
    "a0.then( function(value) {b.resolve(value + 1)})\n",
    "\n",
    "// c = 2*b\n",
    "var b0 = b.promise();\n",
    "b0.then(function(value) {c.resolve(2*value)})\n",
    "\n",
    "a.resolve(2);"
   ]
  },
  {
   "cell_type": "code",
   "execution_count": null,
   "metadata": {
    "collapsed": false
   },
   "outputs": [],
   "source": [
    "%%javascript \n",
    "\n",
    "// better way?\n",
    "// https://api.jquery.com/deferred.then/\n",
    "\n",
    "var a = $.Deferred();\n",
    "a.then(function(value){console.log('a: '+value)})\n",
    "\n",
    "// Deferred.then returns a Promise\n",
    "var b = a.then(function(value){return value + 1});\n",
    "var c = b.then(function(value){return 2*value});\n",
    "\n",
    "b.done(function(value) {console.log('b: '+ value)});\n",
    "c.done(function(value) {console.log('c: '+ value)});\n",
    "\n",
    "a.resolve(2);"
   ]
  },
  {
   "cell_type": "code",
   "execution_count": null,
   "metadata": {
    "collapsed": false
   },
   "outputs": [],
   "source": [
    "%%javascript\n",
    "\n",
    "// bug\n",
    "\n",
    "// x, y are Deferred\n",
    "// c = x + y\n",
    "\n",
    "var x = $.Deferred();\n",
    "var y = $.Deferred();\n",
    "\n",
    "var c = $.when(x,y).then(function(x,y) {\n",
    "    console.log('c.done x:' + x);\n",
    "    console.log('c.done y:' + y);\n",
    "    return (x+y);\n",
    "})\n",
    "\n",
    "var d = c.then(function(value){return value})\n",
    "d.done(function(value){console.log(value)})\n",
    "\n",
    "y.resolve(2);\n",
    "x.resolve(27);\n",
    "\n",
    "\n"
   ]
  },
  {
   "cell_type": "markdown",
   "metadata": {},
   "source": [
    "Possible Next steps:\n",
    "    \n",
    "  * work with jQuery's implementation of promises\n",
    "  * consider alts: [cujojs/when](https://github.com/cujojs/when), [tildeio/rsvp.js](https://github.com/tildeio/rsvp.js/), [kriskowal/q](http://documentup.com/kriskowal/q/)\n",
    "  * wrap jQuery promise with Q: [Coming from jQuery · kriskowal/q Wiki](https://github.com/kriskowal/q/wiki/Coming-from-jQuery)\n",
    "  \n",
    "  \n",
    "Learn about Python analogs:\n",
    "\n",
    " * [agronholm/pythonfutures](https://github.com/agronholm/pythonfutures)\n",
    " * Ch 17, 18 of *Fluent Python*: [Fluent Python > V. Control Flow > 17. Concurrency with Futures : Safari Books Online](http://my.safaribooksonline.com/book/programming/python/9781491946237/vdot-control-flow/ch17_html).\n",
    " * an implementation of Promises/A+ in Python: [xogeny/aplus](https://github.com/xogeny/aplus)"
   ]
  },
  {
   "cell_type": "code",
   "execution_count": null,
   "metadata": {
    "collapsed": true
   },
   "outputs": [],
   "source": []
  }
 ],
 "metadata": {
  "kernelspec": {
   "display_name": "Python 2",
   "language": "python",
   "name": "python2"
  },
  "language_info": {
   "codemirror_mode": {
    "name": "ipython",
    "version": 2
   },
   "file_extension": ".py",
   "mimetype": "text/x-python",
   "name": "python",
   "nbconvert_exporter": "python",
   "pygments_lexer": "ipython2",
   "version": "2.7.11"
  }
 },
 "nbformat": 4,
 "nbformat_minor": 0
}
