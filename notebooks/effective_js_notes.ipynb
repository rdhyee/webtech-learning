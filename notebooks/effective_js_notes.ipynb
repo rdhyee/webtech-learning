{
 "cells": [
  {
   "cell_type": "markdown",
   "metadata": {},
   "source": [
    "Tip 1 was about concatenating code with different settings for strict.  You can execute code in an anonymous function to minimize namespace pollution."
   ]
  },
  {
   "cell_type": "code",
   "execution_count": 8,
   "metadata": {
    "collapsed": false
   },
   "outputs": [
    {
     "data": {
      "application/javascript": [
       "\n",
       "// isolating context for execution\n",
       "\n",
       "(function () {\n",
       "    \n",
       "    \"use strict\";\n",
       "    \n",
       "    (function () {\n",
       "        var arguments = [];\n",
       "        element.text(\"hi\")\n",
       "    })();\n",
       "    \n",
       "})();"
      ],
      "text/plain": [
       "<IPython.core.display.Javascript object>"
      ]
     },
     "metadata": {},
     "output_type": "display_data"
    }
   ],
   "source": [
    "%%javascript\n",
    "\n",
    "// isolating context for execution\n",
    "\n",
    "(function () {\n",
    "    \n",
    "    \"use strict\";\n",
    "    \n",
    "    (function () {\n",
    "        // \n",
    "        var arguments = [];\n",
    "        element.text(\"hi\")\n",
    "    })();\n",
    "    \n",
    "})();\n"
   ]
  },
  {
   "cell_type": "code",
   "execution_count": 16,
   "metadata": {
    "collapsed": false
   },
   "outputs": [
    {
     "data": {
      "application/javascript": [
       "\n",
       "var k = {\n",
       "    sProp: 'some string value',\n",
       "    numProp: 2,\n",
       "    bProp: false\n",
       "};\n",
       "\n",
       "element.text(k.sProp);"
      ],
      "text/plain": [
       "<IPython.core.display.Javascript object>"
      ]
     },
     "metadata": {},
     "output_type": "display_data"
    }
   ],
   "source": [
    "%%javascript\n",
    "\n",
    "var k = {\n",
    "    sProp: 'some string value',\n",
    "    numProp: 2,\n",
    "    bProp: false\n",
    "};\n",
    "\n",
    "element.text(k.sProp);"
   ]
  },
  {
   "cell_type": "code",
   "execution_count": 8,
   "metadata": {
    "collapsed": false
   },
   "outputs": [
    {
     "data": {
      "application/javascript": [
       "\n",
       "var myObj = {\n",
       "     toString: function() {return \"hello\" },\n",
       "     valueOf: function() {return 42}\n",
       "};\n",
       "\n",
       "// precedence of valueOf over toString\n",
       "\n",
       "console.log(\"K\" + myObj); // K42\n"
      ],
      "text/plain": [
       "<IPython.core.display.Javascript object>"
      ]
     },
     "metadata": {},
     "output_type": "display_data"
    }
   ],
   "source": [
    "%%javascript\n",
    "\n",
    "var myObj = {\n",
    "     toString: function() {return \"hello\" },\n",
    "     valueOf: function() {return 42}\n",
    "};\n",
    "\n",
    "// precedence of valueOf over toString\n",
    "\n",
    "console.log(\"K\" + myObj); // K42\n",
    "\n"
   ]
  },
  {
   "cell_type": "code",
   "execution_count": null,
   "metadata": {
    "collapsed": true
   },
   "outputs": [],
   "source": []
  }
 ],
 "metadata": {
  "kernelspec": {
   "display_name": "Python 2",
   "language": "python",
   "name": "python2"
  },
  "language_info": {
   "codemirror_mode": {
    "name": "ipython",
    "version": 2
   },
   "file_extension": ".py",
   "mimetype": "text/x-python",
   "name": "python",
   "nbconvert_exporter": "python",
   "pygments_lexer": "ipython2",
   "version": "2.7.11"
  }
 },
 "nbformat": 4,
 "nbformat_minor": 0
}
