{
 "cells": [
  {
   "cell_type": "markdown",
   "metadata": {},
   "source": [
    "[threading – Manage concurrent threads - Python Module of the Week](https://pymotw.com/2/threading/)"
   ]
  },
  {
   "cell_type": "code",
   "execution_count": null,
   "metadata": {
    "collapsed": false
   },
   "outputs": [],
   "source": [
    "from __future__ import print_function\n",
    "\n",
    "import time\n",
    "import datetime\n",
    "\n",
    "import threading\n",
    "\n",
    "from IPython.display import display\n",
    "from ipywidgets import widgets\n"
   ]
  },
  {
   "cell_type": "code",
   "execution_count": null,
   "metadata": {
    "collapsed": false
   },
   "outputs": [],
   "source": [
    "def display_dt(duration=5, widget=None, print_dt=False):\n",
    "    \"\"\"\n",
    "    display current time for duration (s)\n",
    "    \"\"\"\n",
    "    time_0 = time.time()\n",
    "    while time.time() < time_0 + duration:\n",
    "        dt = datetime.datetime.now().isoformat()\n",
    "        if print_dt:\n",
    "            print (\"\\r{}\".format(dt), end=\"\") \n",
    "        if widget is not None:\n",
    "            widget.value = dt\n",
    "        time.sleep(0.1)\n",
    "        \n",
    "    return\n",
    "\n",
    "display_dt(print_dt=True)"
   ]
  },
  {
   "cell_type": "code",
   "execution_count": null,
   "metadata": {
    "collapsed": true
   },
   "outputs": [],
   "source": [
    "w = widgets.Text()\n",
    "w.value = \"Hello\"\n",
    "display(w)"
   ]
  },
  {
   "cell_type": "code",
   "execution_count": null,
   "metadata": {
    "collapsed": false
   },
   "outputs": [],
   "source": [
    "t = threading.Thread(target=display_dt, args=(30,w))\n",
    "t.start()"
   ]
  },
  {
   "cell_type": "code",
   "execution_count": null,
   "metadata": {
    "collapsed": false
   },
   "outputs": [],
   "source": [
    "for m in range(100000):\n",
    "    print (\"\\r{}\".format(m), end=\"\") "
   ]
  },
  {
   "cell_type": "markdown",
   "metadata": {},
   "source": [
    "# Clean up widgets"
   ]
  },
  {
   "cell_type": "code",
   "execution_count": null,
   "metadata": {
    "collapsed": false
   },
   "outputs": [],
   "source": [
    "assert False"
   ]
  },
  {
   "cell_type": "code",
   "execution_count": null,
   "metadata": {
    "collapsed": false
   },
   "outputs": [],
   "source": [
    "%%javascript\n",
    "\n",
    "$('div.widget-area button.close:visible').click();"
   ]
  },
  {
   "cell_type": "code",
   "execution_count": null,
   "metadata": {
    "collapsed": true
   },
   "outputs": [],
   "source": []
  }
 ],
 "metadata": {
  "kernelspec": {
   "display_name": "Python 2",
   "language": "python",
   "name": "python2"
  },
  "language_info": {
   "codemirror_mode": {
    "name": "ipython",
    "version": 2
   },
   "file_extension": ".py",
   "mimetype": "text/x-python",
   "name": "python",
   "nbconvert_exporter": "python",
   "pygments_lexer": "ipython2",
   "version": "2.7.11"
  }
 },
 "nbformat": 4,
 "nbformat_minor": 0
}
