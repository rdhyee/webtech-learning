{
 "cells": [
  {
   "cell_type": "code",
   "execution_count": null,
   "metadata": {
    "collapsed": true
   },
   "outputs": [],
   "source": [
    "from nbfiddle import Fiddle"
   ]
  },
  {
   "cell_type": "code",
   "execution_count": null,
   "metadata": {
    "collapsed": false
   },
   "outputs": [],
   "source": [
    "%%html\n",
    "\n",
    "<div id=\"c1\">\n",
    "    <select>\n",
    "      <option value=\"volvo\">Volvo</option>\n",
    "      <option value=\"saab\">Saab</option>\n",
    "      <option value=\"mercedes\">Mercedes</option>\n",
    "      <option value=\"audi\">Audi</option>\n",
    "    </select>\n",
    "</div>\n",
    "\n",
    "<script type=\"text/javascript\">\n",
    "\n",
    "\n",
    "    $(document).ready(function()\n",
    "        {\n",
    "            var element = $('#c1');\n",
    "            var sel_elem = element.find('select');\n",
    "            \n",
    "            sel_elem.change(function(ev)\n",
    "            {\n",
    "                var sel_option = sel_elem.find(\"option:selected\").val();\n",
    "               \n",
    "                console.log('Selection changed: ' + sel_option);\n",
    "            });\n",
    "        });\n",
    "\n",
    "\n",
    "</script>"
   ]
  },
  {
   "cell_type": "code",
   "execution_count": null,
   "metadata": {
    "collapsed": false
   },
   "outputs": [],
   "source": [
    "%%html\n",
    "\n",
    "<!-- http://my.safaribooksonline.com/book/programming/javascript/9781457189821/14dot-handling-events/propagation_html -->\n",
    "<p class=\"e1\">A paragraph with a <button>button</button>.</p>\n",
    "\n",
    "<script>\n",
    "  var para = document.querySelector(\"p.e1\");\n",
    "  var button = document.querySelector(\"p.e1 button\");\n",
    "    \n",
    "  para.addEventListener(\"mousedown\", function() {\n",
    "    console.log(\"Handler for paragraph.\");\n",
    "  });\n",
    "  button.addEventListener(\"mousedown\", function(event) {\n",
    "    console.log(\"Handler for button.\");\n",
    "    if (event.which == 3)\n",
    "      event.stopPropagation();\n",
    "  });\n",
    "</script>"
   ]
  },
  {
   "cell_type": "code",
   "execution_count": null,
   "metadata": {
    "collapsed": false
   },
   "outputs": [],
   "source": [
    "Fiddle(\n",
    "\n",
    "    html = \"\"\"\n",
    "<button>A</button>\n",
    "<button>B</button>\n",
    "<button>C</button>\n",
    "\"\"\", \n",
    "    \n",
    "    js = \"\"\"\n",
    "document.body.addEventListener(\"click\", function(event) {\n",
    "if (event.target.nodeName == \"BUTTON\")\n",
    "  console.log(\"Clicked\", event.target.textContent);\n",
    "});\n",
    "\"\"\"\n",
    "\n",
    ")"
   ]
  },
  {
   "cell_type": "code",
   "execution_count": null,
   "metadata": {
    "collapsed": false
   },
   "outputs": [],
   "source": [
    "# turning off defaultEvent\n",
    "\n",
    "Fiddle(\n",
    "\n",
    "    html = \"\"\"\n",
    "<p>Links:</p>\n",
    "<ul>\n",
    "<li><a href=\"https://www.wikidata.org/wiki/Wikidata:Main_Page\">Can't follow this link</a></li>\n",
    "<li><a href=\"https://www.wikidata.org/wiki/Wikidata:Main_Page\">Can't follow this link (2)</a></li>\n",
    "</ul>\n",
    "\"\"\",\n",
    "\n",
    "    js = \"\"\"\n",
    "    element.find('a').each(function(){\n",
    "        this.addEventListener('click', function (event){\n",
    "           console.log(event);\n",
    "           event.preventDefault();\n",
    "        })\n",
    "    })\n",
    "    \n",
    "    \"\"\"\n",
    ")"
   ]
  },
  {
   "cell_type": "code",
   "execution_count": null,
   "metadata": {
    "collapsed": false,
    "scrolled": true
   },
   "outputs": [],
   "source": [
    "# http://my.safaribooksonline.com/book/programming/javascript/9781457189821/iidot-browser/ch13_html#X2ludGVybmFsX0h0bWxWaWV3P3htbGlkPTk3ODE0NTcxODk4MjElMkZtb3VzZV9jbGlja3NfaHRtbCZxdWVyeT0=\n",
    "\n",
    "Fiddle(\n",
    "    \n",
    "    css = \"\"\"\n",
    ".dot {\n",
    "    height: 8px; width: 8px;\n",
    "    border-radius: 4px; /* rounds corners */\n",
    "    background: blue;\n",
    "    position: absolute;\n",
    "}    \n",
    "    \"\"\",\n",
    "    div_css = \"\"\"\n",
    "    \n",
    "height: 200px;\n",
    "background: beige;    \n",
    "    \n",
    "    \"\"\",\n",
    "\n",
    "    js = \"\"\"\n",
    "addEventListener(\"click\", function(event) {\n",
    "    var dot = document.createElement(\"div\");\n",
    "    dot.className = \"dot\";\n",
    "    dot.style.left = (event.pageX - 4) + \"px\";\n",
    "    dot.style.top = (event.pageY - 4) + \"px\";\n",
    "    document.body.appendChild(dot); \n",
    "})\n",
    "    \"\"\"    \n",
    ")"
   ]
  },
  {
   "cell_type": "code",
   "execution_count": null,
   "metadata": {
    "collapsed": true
   },
   "outputs": [],
   "source": []
  }
 ],
 "metadata": {
  "kernelspec": {
   "display_name": "Python 2",
   "language": "python",
   "name": "python2"
  },
  "language_info": {
   "codemirror_mode": {
    "name": "ipython",
    "version": 2
   },
   "file_extension": ".py",
   "mimetype": "text/x-python",
   "name": "python",
   "nbconvert_exporter": "python",
   "pygments_lexer": "ipython2",
   "version": "2.7.11"
  }
 },
 "nbformat": 4,
 "nbformat_minor": 0
}
