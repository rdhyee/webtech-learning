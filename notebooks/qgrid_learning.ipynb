{
 "cells": [
  {
   "cell_type": "markdown",
   "metadata": {},
   "source": [
    "# qgrid\n",
    "\n",
    "[quantopian/qgrid](https://github.com/quantopian/qgrid)\n",
    "\n",
    "Uses [mleibman/SlickGrid](https://github.com/mleibman/SlickGrid).  Examples for slickgrid: [Examples · mleibman/SlickGrid Wiki](https://github.com/mleibman/SlickGrid/wiki/Examples)\n",
    "\n",
    "[Alt fork](https://github.com/mleibman/SlickGrid/issues/1055) for slickgrid: [6pac/SlickGrid](https://github.com/6pac/SlickGrid) (useful since slickgrid is not being updated right now.)\n",
    "\n",
    "## How to install?\n",
    "\n",
    "\n",
    "```\n",
    "pip install git+https://github.com/quantopian/qgrid\n",
    "```\n"
   ]
  },
  {
   "cell_type": "code",
   "execution_count": 1,
   "metadata": {
    "collapsed": true
   },
   "outputs": [],
   "source": [
    "import warnings\n",
    "warnings.filterwarnings('ignore')"
   ]
  },
  {
   "cell_type": "code",
   "execution_count": 2,
   "metadata": {
    "collapsed": false
   },
   "outputs": [],
   "source": [
    "NEED_TO_INSTALL = True\n",
    "\n",
    "import qgrid\n",
    "\n",
    "if NEED_TO_INSTALL:\n",
    "    qgrid.nbinstall(overwrite=True)  # copies javascript dependencies to your /nbextensions folder \n",
    "    qgrid.set_defaults(remote_js=False, precision=4)\n"
   ]
  },
  {
   "cell_type": "code",
   "execution_count": 3,
   "metadata": {
    "collapsed": false
   },
   "outputs": [
    {
     "name": "stdout",
     "output_type": "stream",
     "text": [
      "(<qgrid.grid.QGridWidget object at 0x106f6f710>, {'items': [{'Index': 0, 'High': 115.1731, 'Adj_Ratio': 0.9026, 'slick_grid_id': 'row0', 'Volume': 138725200, 'Low': 113.4581, 'Date': '2011-01-03T00:00:00.000Z', 'Close': 114.6767, 'include': True, 'Open': 114.3698, 'excluded_by': {}}], 'rows': [0], 'type': 'selection_change', 'indexes': [0]}, ([],), {})\n",
      "('selection_change', [0], [0])\n",
      "(<qgrid.grid.QGridWidget object at 0x106f6f710>, {'items': [{'Index': 1, 'High': 114.9655, 'Adj_Ratio': 0.9026, 'slick_grid_id': 'row1', 'Volume': 137409700, 'Low': 113.9004, 'Date': '2011-01-04T00:00:00.000Z', 'Close': 114.6135, 'include': True, 'Open': 114.9294, 'excluded_by': {}}, {'Index': 0, 'High': 115.1731, 'Adj_Ratio': 0.9026, 'slick_grid_id': 'row0', 'Volume': 138725200, 'Low': 113.4581, 'Date': '2011-01-03T00:00:00.000Z', 'Close': 114.6767, 'include': True, 'Open': 114.3698, 'excluded_by': {}}], 'rows': [1, 0], 'type': 'selection_change', 'indexes': [1, 0]}, ([],), {})\n",
      "('selection_change', [1, 0], [1, 0])\n",
      "(<qgrid.grid.QGridWidget object at 0x106f6f710>, {'items': [{'Index': 159, 'High': 105.5697, 'Adj_Ratio': 0.911, 'slick_grid_id': 'row159', 'Volume': 428281300, 'Low': 102.4904, 'Date': '2011-08-19T00:00:00.000Z', 'Close': 102.618, 'include': True, 'Open': 102.9095, 'excluded_by': {}}], 'rows': [2], 'type': 'selection_change', 'indexes': [159]}, ([],), {})\n",
      "('selection_change', [2], [2])\n",
      "(<qgrid.grid.QGridWidget object at 0x106f6f710>, {'items': [{'Index': 189, 'High': 104.3485, 'Adj_Ratio': 0.9157, 'slick_grid_id': 'row189', 'Volume': 365136800, 'Low': 100.5573, 'Date': '2011-10-03T00:00:00.000Z', 'Close': 100.6672, 'include': True, 'Open': 103.0115, 'excluded_by': {}}, {'Index': 159, 'High': 105.5697, 'Adj_Ratio': 0.911, 'slick_grid_id': 'row159', 'Volume': 428281300, 'Low': 102.4904, 'Date': '2011-08-19T00:00:00.000Z', 'Close': 102.618, 'include': True, 'Open': 102.9095, 'excluded_by': {}}], 'rows': [3, 2], 'type': 'selection_change', 'indexes': [189, 159]}, ([],), {})\n",
      "('selection_change', [3, 2], [3, 2])\n",
      "(<qgrid.grid.QGridWidget object at 0x106f6f710>, {'items': [{'Index': 190, 'High': 103.0939, 'Adj_Ratio': 0.9157, 'slick_grid_id': 'row190', 'Volume': 459177500, 'Low': 98.3779, 'Date': '2011-10-04T00:00:00.000Z', 'Close': 102.8741, 'include': True, 'Open': 99.2204, 'excluded_by': {}}], 'rows': [0], 'type': 'selection_change', 'indexes': [190]}, ([],), {})\n",
      "('selection_change', [0], [0])\n"
     ]
    }
   ],
   "source": [
    "# https://github.com/quantopian/qgrid/pull/49#issue-121942807\n",
    "\n",
    "import qgrid\n",
    "from ipywidgets import widgets\n",
    "from ipywidgets.widgets import Button, VBox\n",
    "from IPython.display import display\n",
    "import pandas as pd\n",
    "from pandas import DataFrame\n",
    "\n",
    "pd.set_option('display.max_rows', 8)\n",
    "\n",
    "from pandas.io.data import get_data_yahoo\n",
    "spy = get_data_yahoo(\n",
    "    symbols='SPY',\n",
    "    start=pd.Timestamp('2011-01-01'),\n",
    "    end=pd.Timestamp('2014-01-01'),\n",
    "    adjust_price=True,\n",
    ")\n",
    "# use an integer index so we can add rows\n",
    "spy = spy.reset_index()\n",
    "\n",
    "qgrid.nbinstall(overwrite=True)\n",
    "grid = qgrid.QGridWidget(df=spy)\n",
    "button = Button(description='Update')\n",
    "\n",
    "status = widgets.Text(\n",
    "    background='red'\n",
    ")\n",
    "\n",
    "\n",
    "def update(button):\n",
    "    new = get_data_yahoo(\n",
    "        symbols='SPY',\n",
    "        start=pd.Timestamp('2011-01-01'),\n",
    "        end=pd.Timestamp('2014-01-01'),\n",
    "        adjust_price=True,\n",
    "    )\n",
    "    grid.df = new\n",
    "button.on_click(update)\n",
    "\n",
    "def selection_change(widget, changes, *args, **kwargs):\n",
    "    print (widget, changes, args, kwargs)\n",
    "    #print (changes)\n",
    "    if changes.get('type') == 'selection_change':\n",
    "        print ('selection_change', changes.get('rows'), widget.get_selected_rows())\n",
    "        status.value = unicode(widget.get_selected_rows())\n",
    "    elif changes.get('type') == 'cell_change':\n",
    "        print ('cell_change', changes)\n",
    "        \n",
    "\n",
    "\n",
    "grid.on_msg(selection_change)\n",
    "\n",
    "display(VBox((button, status, grid)))"
   ]
  },
  {
   "cell_type": "markdown",
   "metadata": {},
   "source": [
    "# what I'm learning about qgrid\n",
    "\n",
    "some events coming from qgrid:\n",
    "\n",
    "* `cell_change` ([qgrid/qgrid.widget.js at 7a3a5e6d1bcd0b2caf092bf2516b654700adf7cc · quantopian/qgrid](https://github.com/quantopian/qgrid/blob/7a3a5e6d1bcd0b2caf092bf2516b654700adf7cc/qgrid/qgridjs/qgrid.widget.js#L142-L147))-- returns `row`, `column`, `value` [based](https://github.com/mleibman/SlickGrid/wiki/Grid-Events) on \"row\", \"cell\", \"item\") -- row is row number, cell is the column number, item is an object indexed by column names\n",
    "* `selection_change`\n",
    "* `add_row`\n",
    "* `remove_row`"
   ]
  },
  {
   "cell_type": "markdown",
   "metadata": {},
   "source": [
    "What to do next:\n",
    "   \n",
    "* attach my own event handler to the various events available on `QGridWidget`.\n",
    "\n",
    "What can we do with qgrid?\n",
    "\n",
    "* pick up on row selection changes\n",
    "* pick up on cell changes\n",
    "* add row\n",
    "* delete rows\n"
   ]
  },
  {
   "cell_type": "markdown",
   "metadata": {},
   "source": [
    "# Toy example to exercise all the functionality of qgrid"
   ]
  },
  {
   "cell_type": "code",
   "execution_count": null,
   "metadata": {
    "collapsed": false
   },
   "outputs": [],
   "source": [
    "columns = ['id', 'name','color','marbles']\n",
    "\n",
    "data = [\n",
    "\n",
    "    {'id':0, 'name': 'Fred', 'color':'red', 'marbles':2},\n",
    "    {'id':1, 'name': 'Zhang', 'color':'blue', 'marbles':5},\n",
    "    {'id':2, 'name': 'Deb', 'color':'orange', 'marbles':0}\n",
    "]\n",
    "\n",
    "df = DataFrame(data, columns=columns)\n",
    "df"
   ]
  },
  {
   "cell_type": "code",
   "execution_count": null,
   "metadata": {
    "collapsed": false
   },
   "outputs": [],
   "source": [
    "df.loc[10] = {'id':2, 'name': 'Kim', 'color':'orange', 'marbles':0}\n",
    "df"
   ]
  },
  {
   "cell_type": "code",
   "execution_count": null,
   "metadata": {
    "collapsed": false
   },
   "outputs": [],
   "source": [
    "df.index"
   ]
  },
  {
   "cell_type": "code",
   "execution_count": null,
   "metadata": {
    "collapsed": false
   },
   "outputs": [],
   "source": [
    "data_widget = qgrid.QGridWidget(df=df, remote_js=False)\n",
    "\n",
    "add_row = widgets.Button(description=\"Add Row\")\n",
    "add_row.on_click(data_widget.add_row)\n",
    "\n",
    "rem_row = widgets.Button(description=\"Remove Row\")\n",
    "rem_row.on_click(data_widget.remove_row)\n",
    "\n",
    "\n",
    "display(widgets.HBox((add_row, rem_row)), data_widget)"
   ]
  },
  {
   "cell_type": "code",
   "execution_count": null,
   "metadata": {
    "collapsed": false
   },
   "outputs": [],
   "source": [
    "df.columns"
   ]
  },
  {
   "cell_type": "code",
   "execution_count": null,
   "metadata": {
    "collapsed": false
   },
   "outputs": [],
   "source": [
    "df"
   ]
  },
  {
   "cell_type": "code",
   "execution_count": null,
   "metadata": {
    "collapsed": false
   },
   "outputs": [],
   "source": [
    "len(df)"
   ]
  },
  {
   "cell_type": "code",
   "execution_count": null,
   "metadata": {
    "collapsed": true
   },
   "outputs": [],
   "source": [
    "# replace df if we need ...\n",
    "data_widget.df = df\n",
    "data_widget._df_changed()"
   ]
  },
  {
   "cell_type": "code",
   "execution_count": null,
   "metadata": {
    "collapsed": false
   },
   "outputs": [],
   "source": [
    "data_widget"
   ]
  },
  {
   "cell_type": "markdown",
   "metadata": {},
   "source": [
    "# Extending widgets to get at more events?"
   ]
  },
  {
   "cell_type": "code",
   "execution_count": null,
   "metadata": {
    "collapsed": false
   },
   "outputs": [],
   "source": [
    "w = widgets.Text()\n",
    "\n",
    "def text_event(widget, changes, *args, **kwargs):\n",
    "    print (widget, changes, args, kwargs)\n",
    "    print (changes)\n",
    "\n",
    "\n",
    "w.on_msg(text_event)\n",
    "\n",
    "display(w)"
   ]
  },
  {
   "cell_type": "markdown",
   "metadata": {},
   "source": [
    "# How does the msg framework work?\n",
    "\n",
    "* how do messages go from JS to Python?\n",
    "\n",
    "* message from Python to JS?\n"
   ]
  },
  {
   "cell_type": "code",
   "execution_count": null,
   "metadata": {
    "collapsed": false
   },
   "outputs": [],
   "source": [
    "# thought this would be interesting but I think the only event supported is submit.\n",
    "\n",
    "class MyText(widgets.Text):\n",
    "    def _handle_string_msg(self, _, content, buffers):\n",
    "        \"\"\"Handle a msg from the front-end.\n",
    "        Parameters\n",
    "        ----------\n",
    "        content: dict\n",
    "            Content of the msg.\"\"\"\n",
    "            \n",
    "        super(MyText, self)._handle_string_msg( _, content, buffers)\n",
    "        \n",
    "        print (_, content, buffers)\n",
    "        \n",
    "        \n",
    "w = MyText()\n",
    "w"
   ]
  },
  {
   "cell_type": "markdown",
   "metadata": {},
   "source": [
    "# Appendix:  Clearing widgets"
   ]
  },
  {
   "cell_type": "code",
   "execution_count": null,
   "metadata": {
    "collapsed": false
   },
   "outputs": [],
   "source": [
    "assert False"
   ]
  },
  {
   "cell_type": "code",
   "execution_count": null,
   "metadata": {
    "collapsed": false
   },
   "outputs": [],
   "source": [
    "%%javascript\n",
    "\n",
    "$('div.widget-area button.close:visible').click();"
   ]
  },
  {
   "cell_type": "code",
   "execution_count": null,
   "metadata": {
    "collapsed": true
   },
   "outputs": [],
   "source": []
  }
 ],
 "metadata": {
  "kernelspec": {
   "display_name": "Python 2",
   "language": "python",
   "name": "python2"
  },
  "language_info": {
   "codemirror_mode": {
    "name": "ipython",
    "version": 2
   },
   "file_extension": ".py",
   "mimetype": "text/x-python",
   "name": "python",
   "nbconvert_exporter": "python",
   "pygments_lexer": "ipython2",
   "version": "2.7.11"
  }
 },
 "nbformat": 4,
 "nbformat_minor": 0
}
