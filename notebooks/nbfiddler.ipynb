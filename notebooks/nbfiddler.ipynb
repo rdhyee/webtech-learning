{
 "cells": [
  {
   "cell_type": "code",
   "execution_count": 1,
   "metadata": {
    "collapsed": false
   },
   "outputs": [],
   "source": [
    "from nbfiddle import Fiddle"
   ]
  },
  {
   "cell_type": "code",
   "execution_count": 2,
   "metadata": {
    "collapsed": false
   },
   "outputs": [
    {
     "data": {
      "text/html": [
       "<div id=\"i6e356f8a-c53b-4633-a80d-56f9f874940d\">\n",
       "    \n",
       " <input type=\"text\" name=\"date\" class=\"date1\"/>\n",
       "\n",
       "</div><style type=\"text/css\">\n",
       "\n",
       "\n",
       "#i6e356f8a-c53b-4633-a80d-56f9f874940d{background-color:red;}\n",
       "</style>\n",
       "<script type=\"text/javascript\">\n",
       "\n",
       "    \n",
       "    // load css if it's not already there: http://stackoverflow.com/a/4724676/7782\n",
       "    function loadcss(url) {\n",
       "        if (!$(\"link[href='\" + url + \"']\").length)\n",
       "            $('<link href=\"' + url + '\" rel=\"stylesheet\">').appendTo(\"head\");\n",
       "    }\n",
       "    \n",
       "    \n",
       "    \n",
       "    loadcss('https://cdnjs.cloudflare.com/ajax/libs/jqueryui/1.11.4/jquery-ui.css');\n",
       "    \n",
       "    \n",
       "\n",
       "    require.config({\n",
       "          paths: {\n",
       "             \n",
       "               'jquery-ui': \"https://code.jquery.com/ui/1.11.4/jquery-ui.min\", \n",
       "             \n",
       "          }\n",
       "    });\n",
       "\n",
       "     \n",
       "    require([\"jquery-ui\"], function(jqu) {\n",
       "    \n",
       "        var element = $('#i6e356f8a-c53b-4633-a80d-56f9f874940d');\n",
       "\n",
       "element.find('input.date1').datepicker();\n",
       "\n",
       "    \n",
       "    });\n",
       "\n",
       "</script>"
      ],
      "text/plain": [
       "<nbfiddle.Fiddle at 0x107055350>"
      ]
     },
     "execution_count": 2,
     "metadata": {},
     "output_type": "execute_result"
    }
   ],
   "source": [
    "# jquery-ui datepicker\n",
    "\n",
    "Fiddle(\n",
    "    \n",
    "html=\"\"\"\n",
    " <input type=\"text\" name=\"date\" class=\"date1\"/>\n",
    "\"\"\", \n",
    "    \n",
    " js = \"\"\"\n",
    "element.find('input.date1').datepicker();\n",
    "\"\"\",\n",
    "    \n",
    " div_css=\"\"\"\n",
    "background-color:red;\n",
    "\"\"\",\n",
    "    \n",
    " jslibs = \n",
    "    (('jquery-ui', 'https://code.jquery.com/ui/1.11.4/jquery-ui.min','jqu'),),\n",
    "    \n",
    " csslibs = (\"https://cdnjs.cloudflare.com/ajax/libs/jqueryui/1.11.4/jquery-ui.css\",)\n",
    "    \n",
    ")\n"
   ]
  },
  {
   "cell_type": "code",
   "execution_count": 3,
   "metadata": {
    "collapsed": false
   },
   "outputs": [
    {
     "data": {
      "text/html": [
       "<div id=\"i80b61728-e47c-464f-a9b4-a4a028b51f6c\">\n",
       "    \n",
       "</div><style type=\"text/css\">\n",
       "\n",
       "\n",
       "\n",
       "</style>\n",
       "<script type=\"text/javascript\">\n",
       "\n",
       "    \n",
       "    \n",
       "    \n",
       "    \n",
       "\n",
       "    require.config({\n",
       "          paths: {\n",
       "             \n",
       "               'less': \"https://cdnjs.cloudflare.com/ajax/libs/less.js/2.5.3/less\", \n",
       "             \n",
       "          }\n",
       "    });\n",
       "\n",
       "     \n",
       "    require([\"less\"], function(less) {\n",
       "    \n",
       "        var element = $('#i80b61728-e47c-464f-a9b4-a4a028b51f6c');\n",
       "\n",
       "        less_text = '#header {          color: black;          .navigation {            font-size: 12px;          }          .logo {            width: 300px;          }        }';\n",
       "        \n",
       "        less.render(less_text, function (e, output) {\n",
       "          element.text(output.css);\n",
       "        });    \n",
       "    \n",
       "    \n",
       "    \n",
       "    });\n",
       "\n",
       "</script>"
      ],
      "text/plain": [
       "<nbfiddle.Fiddle at 0x107159050>"
      ]
     },
     "execution_count": 3,
     "metadata": {},
     "output_type": "execute_result"
    }
   ],
   "source": [
    "Fiddle(\n",
    "    js = \"\"\"\n",
    "        less_text = '#header {\\\n",
    "          color: black;\\\n",
    "          .navigation {\\\n",
    "            font-size: 12px;\\\n",
    "          }\\\n",
    "          .logo {\\\n",
    "            width: 300px;\\\n",
    "          }\\\n",
    "        }';\n",
    "        \n",
    "        less.render(less_text, function (e, output) {\n",
    "          element.text(output.css);\n",
    "        });    \n",
    "    \n",
    "    \"\"\",\n",
    "    jslibs = (('less', \"https://cdnjs.cloudflare.com/ajax/libs/less.js/2.5.3/less\", \"less\"),)\n",
    ")"
   ]
  },
  {
   "cell_type": "code",
   "execution_count": 4,
   "metadata": {
    "collapsed": false
   },
   "outputs": [],
   "source": [
    "from jinja2 import (Template, DebugUndefined)\n",
    "from settings import (MAPBOX_KEY, MAPBOX_PROJ_ID)\n",
    "\n",
    "def leaflet_HTML(lat=37.8717, long_=-122.2728, height=300, zoom=12,\n",
    "                mapbox_key=MAPBOX_KEY, mapbox_proj_id=MAPBOX_PROJ_ID):\n",
    "\n",
    "        js = u\"\"\"\n",
    "var map = L.map('{{div_id}}').setView([{{lat}}, {{long_}}], {{zoom}});\n",
    "\n",
    "L.tileLayer('https://api.tiles.mapbox.com/v4/{id}/{z}/{x}/{y}.png?access_token={accessToken}', {\n",
    "  attribution: 'Map data &copy; <a href=\"http://openstreetmap.org\">OpenStreetMap</a> contributors, <a href=\"http://creativecommons.org/licenses/by-sa/2.0/\">CC-BY-SA</a>, Imagery © <a href=\"http://mapbox.com\">Mapbox</a>',\n",
    "  maxZoom: 18,\n",
    "  id: '{{mapbox_proj_id}}',\n",
    "  accessToken: '{{mapbox_key}}'\n",
    "}).addTo(map);\n",
    "\"\"\"\n",
    "        \n",
    "        div_css = Template(\"\"\"\n",
    "height: {{height}}px;\n",
    "* + img {margin-top: 0em;}\n",
    "        \"\"\").render(height=height)\n",
    "        \n",
    "        jslibs = (('leaflet', 'http://cdn.leafletjs.com/leaflet/v0.7.7/leaflet', \"leaflet\"),)\n",
    "        csslibs = (\"http://cdn.leafletjs.com/leaflet/v0.7.7/leaflet.css\",)\n",
    "        extra_vars = {'lat':lat, \n",
    "                  'long_':long_,\n",
    "                  'height':height,\n",
    "                  'zoom': zoom,\n",
    "                  'mapbox_key':mapbox_key, \n",
    "                  'mapbox_proj_id':mapbox_proj_id}\n",
    "        \n",
    "        f = Fiddle(js=js,div_css=div_css,jslibs=jslibs,csslibs=csslibs,extra_vars=extra_vars)\n",
    "        return f\n",
    "\n"
   ]
  },
  {
   "cell_type": "code",
   "execution_count": 5,
   "metadata": {
    "collapsed": false
   },
   "outputs": [
    {
     "data": {
      "text/html": [
       "<div id=\"idc614d6b-730d-4d5a-a1bc-6a7d5cf2e970\">\n",
       "    \n",
       "</div><style type=\"text/css\">\n",
       "\n",
       "\n",
       "#idc614d6b-730d-4d5a-a1bc-6a7d5cf2e970{height:300px;}\n",
       "#idc614d6b-730d-4d5a-a1bc-6a7d5cf2e970 * +img{margin-top:0em;}\n",
       "</style>\n",
       "<script type=\"text/javascript\">\n",
       "\n",
       "    \n",
       "    // load css if it's not already there: http://stackoverflow.com/a/4724676/7782\n",
       "    function loadcss(url) {\n",
       "        if (!$(\"link[href='\" + url + \"']\").length)\n",
       "            $('<link href=\"' + url + '\" rel=\"stylesheet\">').appendTo(\"head\");\n",
       "    }\n",
       "    \n",
       "    \n",
       "    \n",
       "    loadcss('http://cdn.leafletjs.com/leaflet/v0.7.7/leaflet.css');\n",
       "    \n",
       "    \n",
       "\n",
       "    require.config({\n",
       "          paths: {\n",
       "             \n",
       "               'leaflet': \"http://cdn.leafletjs.com/leaflet/v0.7.7/leaflet\", \n",
       "             \n",
       "          }\n",
       "    });\n",
       "\n",
       "     \n",
       "    require([\"leaflet\"], function(leaflet) {\n",
       "    \n",
       "        var element = $('#idc614d6b-730d-4d5a-a1bc-6a7d5cf2e970');\n",
       "\n",
       "var map = L.map('idc614d6b-730d-4d5a-a1bc-6a7d5cf2e970').setView([37.8717, -122.2728], 10);\n",
       "\n",
       "L.tileLayer('https://api.tiles.mapbox.com/v4/{id}/{z}/{x}/{y}.png?access_token={accessToken}', {\n",
       "  attribution: 'Map data &copy; <a href=\"http://openstreetmap.org\">OpenStreetMap</a> contributors, <a href=\"http://creativecommons.org/licenses/by-sa/2.0/\">CC-BY-SA</a>, Imagery © <a href=\"http://mapbox.com\">Mapbox</a>',\n",
       "  maxZoom: 18,\n",
       "  id: 'rdhyee.ocdhji7h',\n",
       "  accessToken: 'pk.eyJ1IjoicmRoeWVlIiwiYSI6ImNpaHhuZ3NpcDAzYXV1a2tvbGpzNnRrbXMifQ.y-eBVEIIwaZLpydiR6ae-w'\n",
       "}).addTo(map);\n",
       "\n",
       "    \n",
       "    });\n",
       "\n",
       "</script>"
      ],
      "text/plain": [
       "<nbfiddle.Fiddle at 0x1071541d0>"
      ]
     },
     "metadata": {},
     "output_type": "display_data"
    }
   ],
   "source": [
    "from ipywidgets import (interact, interactive, fixed)\n",
    "import ipywidgets as widgets\n",
    "\n",
    "zoom_widget = widgets.IntSlider(min=1, max=18, step=1)\n",
    "zoom_widget.value = 12\n",
    "\n",
    "interact(leaflet_HTML, lat=fixed(37.8717), long_=fixed(-122.2728), height=fixed(300),\n",
    "         div_id=fixed(None), mapbox_key=fixed(MAPBOX_KEY), mapbox_proj_id=fixed(MAPBOX_PROJ_ID),\n",
    "         zoom=zoom_widget)"
   ]
  },
  {
   "cell_type": "code",
   "execution_count": 6,
   "metadata": {
    "collapsed": false
   },
   "outputs": [
    {
     "data": {
      "text/html": [
       "<div id=\"ib7db80b6-0a0b-418f-967c-d37efac24648\">\n",
       "    \n",
       " <p>\n",
       "  First name: <span data-bind=\"text: firstName\"></span>\n",
       "</p>\n",
       "<p>\n",
       "  Last name: <span data-bind=\"text: lastName\"></span>\n",
       "</p>\n",
       "\n",
       "<p>\n",
       "  First name: <input data-bind=\"value: firstName\" />\n",
       "</p>\n",
       "<p>\n",
       "  Last name: <input data-bind=\"value: lastName\" />\n",
       "</p>\n",
       "\n",
       "</div><style type=\"text/css\">\n",
       "\n",
       "\n",
       "\n",
       "</style>\n",
       "<script type=\"text/javascript\">\n",
       "\n",
       "    \n",
       "    \n",
       "    \n",
       "    \n",
       "\n",
       "    require.config({\n",
       "          paths: {\n",
       "             \n",
       "               'knockout': \"https://cdnjs.cloudflare.com/ajax/libs/knockout/3.4.0/knockout-debug\", \n",
       "             \n",
       "          }\n",
       "    });\n",
       "\n",
       "     \n",
       "    require([\"knockout\"], function(ko) {\n",
       "    \n",
       "        var element = $('#ib7db80b6-0a0b-418f-967c-d37efac24648');\n",
       "\n",
       "\n",
       "function VM() {\n",
       "  this.firstName = ko.observable(\"John\");\n",
       "  this.lastName = ko.observable(\"Wayne\");\n",
       "};\n",
       "\n",
       "//ko.applyBindings(new VM(), $('#ib7db80b6-0a0b-418f-967c-d37efac24648')[0]);\n",
       "ko.applyBindings(new VM(), element[0]);\n",
       "\n",
       "\n",
       "    \n",
       "    });\n",
       "\n",
       "</script>"
      ],
      "text/plain": [
       "<nbfiddle.Fiddle at 0x1074f84d0>"
      ]
     },
     "execution_count": 6,
     "metadata": {},
     "output_type": "execute_result"
    }
   ],
   "source": [
    "Fiddle(\n",
    "\n",
    "html = \"\"\"\n",
    " <p>\n",
    "  First name: <span data-bind=\"text: firstName\"></span>\n",
    "</p>\n",
    "<p>\n",
    "  Last name: <span data-bind=\"text: lastName\"></span>\n",
    "</p>\n",
    "\n",
    "<p>\n",
    "  First name: <input data-bind=\"value: firstName\" />\n",
    "</p>\n",
    "<p>\n",
    "  Last name: <input data-bind=\"value: lastName\" />\n",
    "</p>\n",
    "\"\"\",\n",
    "    \n",
    "js = \"\"\"\n",
    "\n",
    "function VM() {\n",
    "  this.firstName = ko.observable(\"John\");\n",
    "  this.lastName = ko.observable(\"Wayne\");\n",
    "};\n",
    "\n",
    "//ko.applyBindings(new VM(), $('#{{div_id}}')[0]);\n",
    "ko.applyBindings(new VM(), element[0]);\n",
    "\n",
    "\"\"\",\n",
    "    \n",
    "jslibs = ((\"knockout\", \"https://cdnjs.cloudflare.com/ajax/libs/knockout/3.4.0/knockout-debug\", \"ko\"),)\n",
    "\n",
    ")"
   ]
  },
  {
   "cell_type": "code",
   "execution_count": null,
   "metadata": {
    "collapsed": true
   },
   "outputs": [],
   "source": []
  }
 ],
 "metadata": {
  "kernelspec": {
   "display_name": "Python 2",
   "language": "python",
   "name": "python2"
  },
  "language_info": {
   "codemirror_mode": {
    "name": "ipython",
    "version": 2
   },
   "file_extension": ".py",
   "mimetype": "text/x-python",
   "name": "python",
   "nbconvert_exporter": "python",
   "pygments_lexer": "ipython2",
   "version": "2.7.11"
  }
 },
 "nbformat": 4,
 "nbformat_minor": 0
}
